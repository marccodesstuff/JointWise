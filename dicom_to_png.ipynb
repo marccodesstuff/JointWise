{
 "cells": [
  {
   "cell_type": "markdown",
   "id": "7a6a34d1",
   "metadata": {},
   "source": [
    "# DICOM to PNG Conversion Notebook\n",
    "This notebook converts DICOM files to PNG format using pydicom and Pillow."
   ]
  },
  {
   "cell_type": "code",
   "execution_count": null,
   "id": "0248e602",
   "metadata": {},
   "outputs": [],
   "source": [
    "import pydicom\n",
    "import numpy as np\n",
    "from PIL import Image\n",
    "from pathlib import Path\n",
    "import os"
   ]
  },
  {
   "cell_type": "markdown",
   "id": "e37828fa",
   "metadata": {},
   "source": [
    "## DICOM to PNG Conversion Function"
   ]
  },
  {
   "cell_type": "code",
   "execution_count": null,
   "id": "9ef10236",
   "metadata": {},
   "outputs": [],
   "source": [
    "def dicom_to_png(dicom_path, output_path=None, apply_windowing=True, normalize=True):\n",
    "    dicom_path = Path(dicom_path)\n",
    "    if not dicom_path.exists():\n",
    "        raise FileNotFoundError(f'DICOM file not found: {dicom_path}')\n",
    "    ds = pydicom.dcmread(dicom_path)\n",
    "    pixel_array = ds.pixel_array\n",
    "    if ds.PixelRepresentation == 1:\n",
    "        pixel_array = pixel_array.astype(np.int16)\n",
    "    if hasattr(ds, 'RescaleSlope') and hasattr(ds, 'RescaleIntercept'):\n",
    "        pixel_array = pixel_array * ds.RescaleSlope + ds.RescaleIntercept\n",
    "    if apply_windowing and hasattr(ds, 'WindowCenter') and hasattr(ds, 'WindowWidth'):\n",
    "        window_center = float(ds.WindowCenter) if isinstance(ds.WindowCenter, (int, float, str)) else float(ds.WindowCenter[0])\n",
    "        window_width = float(ds.WindowWidth) if isinstance(ds.WindowWidth, (int, float, str)) else float(ds.WindowWidth[0])\n",
    "        window_min = window_center - window_width / 2\n",
    "        window_max = window_center + window_width / 2\n",
    "        pixel_array = np.clip(pixel_array, window_min, window_max)\n",
    "        pixel_array = (pixel_array - window_min) / (window_max - window_min) * 255\n",
    "    elif normalize:\n",
    "        pixel_min = np.min(pixel_array)\n",
    "        pixel_max = np.max(pixel_array)\n",
    "        if pixel_max > pixel_min:\n",
    "            pixel_array = (pixel_array - pixel_min) / (pixel_max - pixel_min) * 255\n",
    "        else:\n",
    "            pixel_array = np.zeros_like(pixel_array)\n",
    "    pixel_array = pixel_array.astype(np.uint8)\n",
    "    if len(pixel_array.shape) == 3:\n",
    "        print(f'Multi-frame DICOM detected with {pixel_array.shape[0]} frames')\n",
    "        output_dir = output_path.parent if output_path else dicom_path.parent\n",
    "        base_name = output_path.stem if output_path else dicom_path.stem\n",
    "        saved_files = []\n",
    "        for i, frame in enumerate(pixel_array):\n",
    "            frame_output = output_dir / f'{base_name}_frame_{i:03d}.png'\n",
    "            if len(frame.shape) == 2:\n",
    "                img = Image.fromarray(frame, mode='L')\n",
    "            else:\n",
    "                img = Image.fromarray(frame)\n",
    "            img.save(frame_output)\n",
    "            saved_files.append(str(frame_output))\n",
    "            print(f'Saved frame {i}: {frame_output}')\n",
    "        return saved_files\n",
    "    else:\n",
    "        if output_path is None:\n",
    "            output_path = dicom_path.with_suffix('.png')\n",
    "        else:\n",
    "            output_path = Path(output_path)\n",
    "        output_path.parent.mkdir(parents=True, exist_ok=True)\n",
    "        if len(pixel_array.shape) == 2:\n",
    "            img = Image.fromarray(pixel_array, mode='L')\n",
    "        else:\n",
    "            img = Image.fromarray(pixel_array)\n",
    "        img.save(output_path)\n",
    "        print(f'Saved: {output_path}')\n",
    "        return str(output_path)"
   ]
  },
  {
   "cell_type": "markdown",
   "id": "90e228d5",
   "metadata": {},
   "source": [
    "## Process All DICOM Files in a Directory"
   ]
  },
  {
   "cell_type": "code",
   "execution_count": null,
   "id": "e794934a",
   "metadata": {},
   "outputs": [],
   "source": [
    "def process_directory(input_dir, output_dir=None, apply_windowing=True, normalize=True):\n",
    "    input_dir = Path(input_dir)\n",
    "    if output_dir is None:\n",
    "        output_dir = input_dir / 'png_output'\n",
    "    else:\n",
    "        output_dir = Path(output_dir)\n",
    "    output_dir.mkdir(parents=True, exist_ok=True)\n",
    "    dicom_extensions = ['.dcm', '.dicom', '.ima', '']\n",
    "    dicom_files = []\n",
    "    for ext in dicom_extensions:\n",
    "        if ext:\n",
    "            dicom_files.extend(input_dir.glob(f'*{ext}'))\n",
    "        else:\n",
    "            for file in input_dir.iterdir():\n",
    "                if file.is_file() and not file.suffix:\n",
    "                    try:\n",
    "                        pydicom.dcmread(file, stop_before_pixels=True)\n",
    "                        dicom_files.append(file)\n",
    "                    except:\n",
    "                        continue\n",
    "    if not dicom_files:\n",
    "        print(f'No DICOM files found in {input_dir}')\n",
    "        return\n",
    "    print(f'Found {len(dicom_files)} DICOM files')\n",
    "    for dicom_file in dicom_files:\n",
    "        try:\n",
    "            output_path = output_dir / f'{dicom_file.stem}.png'\n",
    "            dicom_to_png(dicom_file, output_path, apply_windowing, normalize)\n",
    "        except Exception as e:\n",
    "            print(f'Error processing {dicom_file}: {e}')"
   ]
  },
  {
   "cell_type": "markdown",
   "id": "2064f3cf",
   "metadata": {},
   "source": [
    "## Run Conversion on Example Directory"
   ]
  },
  {
   "cell_type": "code",
   "execution_count": null,
   "id": "65ea73f5",
   "metadata": {},
   "outputs": [],
   "source": [
    "# Change these if necessary\n",
    "input_dir = '/home/bictor0301/Code/jointwise-code/output'\n",
    "output_dir = '/home/bictor0301/Code/jointwise-code/png-output'\n",
    "\n",
    "apply_windowing = True\n",
    "normalize = True\n",
    "\n",
    "process_directory(input_dir, output_dir, apply_windowing, normalize)"
   ]
  }
 ],
 "metadata": {
  "language_info": {
   "name": "python"
  }
 },
 "nbformat": 4,
 "nbformat_minor": 5
}
